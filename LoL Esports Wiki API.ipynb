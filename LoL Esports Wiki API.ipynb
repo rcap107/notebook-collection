{
 "cells": [
  {
   "cell_type": "code",
   "execution_count": 17,
   "metadata": {},
   "outputs": [],
   "source": [
    "import mwclient\n",
    "import pandas as pd"
   ]
  },
  {
   "cell_type": "markdown",
   "metadata": {},
   "source": [
    "References:\n",
    "- [Leaguepedia API](https://lol.fandom.com/wiki/Help:Leaguepedia_API#)\n",
    "- [Leaguepedia CargoTables](https://lol.fandom.com/wiki/Special:CargoTables)\n"
   ]
  },
  {
   "cell_type": "code",
   "execution_count": 4,
   "metadata": {},
   "outputs": [],
   "source": [
    "site = mwclient.Site('lol.fandom.com', path='/')"
   ]
  },
  {
   "cell_type": "code",
   "execution_count": 58,
   "metadata": {},
   "outputs": [],
   "source": [
    "response = site.api('cargoquery', limit='max', tables='ScoreboardGames=SG, Tournaments=T',\n",
    "                    fields='SG.OverviewPage, SG.Tournament, SG.DateTime_UTC, SG.Team1, SG.Team2, SG.Winner',\n",
    "                    join_on='T.OverviewPage=SG.OverviewPage'\n",
    ")"
   ]
  },
  {
   "cell_type": "code",
   "execution_count": 59,
   "metadata": {},
   "outputs": [],
   "source": [
    "fields = ['Tournament', 'DateTime UTC', 'Team1', 'Team2', 'Winner']"
   ]
  },
  {
   "cell_type": "code",
   "execution_count": 60,
   "metadata": {},
   "outputs": [],
   "source": [
    "df = pd.DataFrame(columns=fields)\n"
   ]
  },
  {
   "cell_type": "code",
   "execution_count": 61,
   "metadata": {},
   "outputs": [],
   "source": [
    "for idx, re in enumerate(response['cargoquery']):\n",
    "    vals = re['title']\n",
    "    for field in fields:\n",
    "        df.loc[idx, field] = vals[field]"
   ]
  },
  {
   "cell_type": "code",
   "execution_count": 63,
   "metadata": {},
   "outputs": [
    {
     "data": {
      "text/html": [
       "<div>\n",
       "<style scoped>\n",
       "    .dataframe tbody tr th:only-of-type {\n",
       "        vertical-align: middle;\n",
       "    }\n",
       "\n",
       "    .dataframe tbody tr th {\n",
       "        vertical-align: top;\n",
       "    }\n",
       "\n",
       "    .dataframe thead th {\n",
       "        text-align: right;\n",
       "    }\n",
       "</style>\n",
       "<table border=\"1\" class=\"dataframe\">\n",
       "  <thead>\n",
       "    <tr style=\"text-align: right;\">\n",
       "      <th></th>\n",
       "      <th>Tournament</th>\n",
       "      <th>DateTime UTC</th>\n",
       "      <th>Team1</th>\n",
       "      <th>Team2</th>\n",
       "      <th>Winner</th>\n",
       "    </tr>\n",
       "  </thead>\n",
       "  <tbody>\n",
       "    <tr>\n",
       "      <th>count</th>\n",
       "      <td>500</td>\n",
       "      <td>500</td>\n",
       "      <td>500</td>\n",
       "      <td>500</td>\n",
       "      <td>500</td>\n",
       "    </tr>\n",
       "    <tr>\n",
       "      <th>unique</th>\n",
       "      <td>11</td>\n",
       "      <td>459</td>\n",
       "      <td>75</td>\n",
       "      <td>75</td>\n",
       "      <td>2</td>\n",
       "    </tr>\n",
       "    <tr>\n",
       "      <th>top</th>\n",
       "      <td>GPL 2014 Winter</td>\n",
       "      <td>2013-10-30 11:00:00</td>\n",
       "      <td>ahq eSports Club</td>\n",
       "      <td>ahq eSports Club</td>\n",
       "      <td>1</td>\n",
       "    </tr>\n",
       "    <tr>\n",
       "      <th>freq</th>\n",
       "      <td>94</td>\n",
       "      <td>7</td>\n",
       "      <td>39</td>\n",
       "      <td>35</td>\n",
       "      <td>273</td>\n",
       "    </tr>\n",
       "  </tbody>\n",
       "</table>\n",
       "</div>"
      ],
      "text/plain": [
       "             Tournament         DateTime UTC             Team1  \\\n",
       "count               500                  500               500   \n",
       "unique               11                  459                75   \n",
       "top     GPL 2014 Winter  2013-10-30 11:00:00  ahq eSports Club   \n",
       "freq                 94                    7                39   \n",
       "\n",
       "                   Team2 Winner  \n",
       "count                500    500  \n",
       "unique                75      2  \n",
       "top     ahq eSports Club      1  \n",
       "freq                  35    273  "
      ]
     },
     "execution_count": 63,
     "metadata": {},
     "output_type": "execute_result"
    }
   ],
   "source": [
    "df.describe()"
   ]
  },
  {
   "cell_type": "code",
   "execution_count": 64,
   "metadata": {},
   "outputs": [
    {
     "data": {
      "text/plain": [
       "odict_keys(['OverviewPage', 'Tournament', 'DateTime UTC', 'Team1', 'Team2', 'Winner', 'DateTime UTC__precision'])"
      ]
     },
     "execution_count": 64,
     "metadata": {},
     "output_type": "execute_result"
    }
   ],
   "source": [
    "re['title'].keys()"
   ]
  },
  {
   "cell_type": "code",
   "execution_count": 70,
   "metadata": {},
   "outputs": [
    {
     "data": {
      "text/plain": [
       "OrderedDict([('title',\n",
       "              OrderedDict([('OverviewPage', '2015 Demacia Cup/Spring Season'),\n",
       "                           ('Tournament', 'Demacia Cup 2015 Spring'),\n",
       "                           ('DateTime UTC', '2015-03-02 11:00:00'),\n",
       "                           ('Team1', 'Snake Honor Esports'),\n",
       "                           ('Team2', 'Star Horn Royal Club'),\n",
       "                           ('Winner', '2'),\n",
       "                           ('DateTime UTC__precision', '0')]))])"
      ]
     },
     "execution_count": 70,
     "metadata": {},
     "output_type": "execute_result"
    }
   ],
   "source": [
    "response['cargoquery'][-1]"
   ]
  },
  {
   "cell_type": "code",
   "execution_count": null,
   "metadata": {},
   "outputs": [],
   "source": []
  }
 ],
 "metadata": {
  "kernelspec": {
   "display_name": "Python 3.10.8 ('lolwiki')",
   "language": "python",
   "name": "python3"
  },
  "language_info": {
   "codemirror_mode": {
    "name": "ipython",
    "version": 3
   },
   "file_extension": ".py",
   "mimetype": "text/x-python",
   "name": "python",
   "nbconvert_exporter": "python",
   "pygments_lexer": "ipython3",
   "version": "3.10.8"
  },
  "orig_nbformat": 4,
  "vscode": {
   "interpreter": {
    "hash": "664734f54d5bb1cca756496d5b8d434e13f2ba5c2c8ea9a2dfddcea2f990dd37"
   }
  }
 },
 "nbformat": 4,
 "nbformat_minor": 2
}
