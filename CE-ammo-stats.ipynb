{
 "cells": [
  {
   "cell_type": "code",
   "execution_count": 1,
   "metadata": {},
   "outputs": [],
   "source": [
    "import pandas as pd"
   ]
  },
  {
   "cell_type": "code",
   "execution_count": 35,
   "metadata": {},
   "outputs": [],
   "source": [
    "fpath = \"data/CE-ammo-stats/CE-handgun-ammo-stats.xml\"\n",
    "actual_name = \"9x18mmMakarov\""
   ]
  },
  {
   "cell_type": "code",
   "execution_count": 91,
   "metadata": {},
   "outputs": [],
   "source": [
    "import xml\n",
    "import xml.etree.ElementTree as ET"
   ]
  },
  {
   "cell_type": "code",
   "execution_count": 93,
   "metadata": {},
   "outputs": [],
   "source": []
  },
  {
   "cell_type": "code",
   "execution_count": 210,
   "metadata": {},
   "outputs": [],
   "source": [
    "def read_file_to_dict(fpath):\n",
    "    tree = ET.parse(fpath)\n",
    "    root = tree.getroot()\n",
    "    info_dict = {}\n",
    "    print(fpath)\n",
    "    for item in root.findall(\".//projectile/../\"):\n",
    "        if item.tag == \"label\":\n",
    "            print(item.text)\n",
    "            this_obj = item.text\n",
    "        elif item.tag == \"projectile\":\n",
    "            item_children = item.findall(\".//\")\n",
    "            this_obj_values = {}\n",
    "            for child in item_children:\n",
    "                this_obj_values[child.tag] = child.text\n",
    "        info_dict[this_obj] = this_obj_values"
   ]
  },
  {
   "cell_type": "code",
   "execution_count": 203,
   "metadata": {},
   "outputs": [
    {
     "data": {
      "text/html": [
       "<div>\n",
       "<style scoped>\n",
       "    .dataframe tbody tr th:only-of-type {\n",
       "        vertical-align: middle;\n",
       "    }\n",
       "\n",
       "    .dataframe tbody tr th {\n",
       "        vertical-align: top;\n",
       "    }\n",
       "\n",
       "    .dataframe thead th {\n",
       "        text-align: right;\n",
       "    }\n",
       "</style>\n",
       "<table border=\"1\" class=\"dataframe\">\n",
       "  <thead>\n",
       "    <tr style=\"text-align: right;\">\n",
       "      <th></th>\n",
       "      <th>damageAmountBase</th>\n",
       "      <th>armorPenetrationSharp</th>\n",
       "      <th>armorPenetrationBlunt</th>\n",
       "    </tr>\n",
       "  </thead>\n",
       "  <tbody>\n",
       "    <tr>\n",
       "      <th>9mm Makarov bullet (HP)</th>\n",
       "      <td>12</td>\n",
       "      <td>2</td>\n",
       "      <td>6.1</td>\n",
       "    </tr>\n",
       "    <tr>\n",
       "      <th>9mm Makarov bullet (FMJ)</th>\n",
       "      <td>9</td>\n",
       "      <td>4</td>\n",
       "      <td>6.1</td>\n",
       "    </tr>\n",
       "    <tr>\n",
       "      <th>9mm Makarov bullet (AP)</th>\n",
       "      <td>6</td>\n",
       "      <td>8</td>\n",
       "      <td>6.1</td>\n",
       "    </tr>\n",
       "  </tbody>\n",
       "</table>\n",
       "</div>"
      ],
      "text/plain": [
       "                         damageAmountBase armorPenetrationSharp  \\\n",
       "9mm Makarov bullet (HP)                12                     2   \n",
       "9mm Makarov bullet (FMJ)                9                     4   \n",
       "9mm Makarov bullet (AP)                 6                     8   \n",
       "\n",
       "                         armorPenetrationBlunt  \n",
       "9mm Makarov bullet (HP)                    6.1  \n",
       "9mm Makarov bullet (FMJ)                   6.1  \n",
       "9mm Makarov bullet (AP)                    6.1  "
      ]
     },
     "execution_count": 203,
     "metadata": {},
     "output_type": "execute_result"
    }
   ],
   "source": [
    "pd.DataFrame().from_dict(info_dict, orient='index')"
   ]
  },
  {
   "cell_type": "code",
   "execution_count": 197,
   "metadata": {},
   "outputs": [],
   "source": [
    "import os\n",
    "import os.path as osp"
   ]
  },
  {
   "cell_type": "code",
   "execution_count": 198,
   "metadata": {},
   "outputs": [],
   "source": [
    "tgt_dir = \"Rifle\""
   ]
  },
  {
   "cell_type": "code",
   "execution_count": 209,
   "metadata": {},
   "outputs": [
    {
     "name": "stdout",
     "output_type": "stream",
     "text": [
      "545x39mmSoviet.xml\n"
     ]
    },
    {
     "ename": "UnboundLocalError",
     "evalue": "local variable 'this_obj_values' referenced before assignment",
     "output_type": "error",
     "traceback": [
      "\u001b[0;31m---------------------------------------------------------------------------\u001b[0m",
      "\u001b[0;31mUnboundLocalError\u001b[0m                         Traceback (most recent call last)",
      "\u001b[1;32m/Users/rcap/Projects/notebook-collection/CE-ammo-stats.ipynb Cell 9\u001b[0m in \u001b[0;36m<cell line: 2>\u001b[0;34m()\u001b[0m\n\u001b[1;32m      <a href='vscode-notebook-cell:/Users/rcap/Projects/notebook-collection/CE-ammo-stats.ipynb#X64sZmlsZQ%3D%3D?line=2'>3</a>\u001b[0m f_path \u001b[39m=\u001b[39m osp\u001b[39m.\u001b[39mjoin(data_dir, tgt_dir, ff)\n\u001b[1;32m      <a href='vscode-notebook-cell:/Users/rcap/Projects/notebook-collection/CE-ammo-stats.ipynb#X64sZmlsZQ%3D%3D?line=3'>4</a>\u001b[0m \u001b[39mprint\u001b[39m(ff)\n\u001b[0;32m----> <a href='vscode-notebook-cell:/Users/rcap/Projects/notebook-collection/CE-ammo-stats.ipynb#X64sZmlsZQ%3D%3D?line=4'>5</a>\u001b[0m info_dict \u001b[39m=\u001b[39m read_file_to_dict(fpath)\n\u001b[1;32m      <a href='vscode-notebook-cell:/Users/rcap/Projects/notebook-collection/CE-ammo-stats.ipynb#X64sZmlsZQ%3D%3D?line=5'>6</a>\u001b[0m pd\u001b[39m.\u001b[39mDataFrame()\u001b[39m.\u001b[39mfrom_dict(info_dict, orient\u001b[39m=\u001b[39m\u001b[39m'\u001b[39m\u001b[39mindex\u001b[39m\u001b[39m'\u001b[39m)\n",
      "\u001b[1;32m/Users/rcap/Projects/notebook-collection/CE-ammo-stats.ipynb Cell 9\u001b[0m in \u001b[0;36mread_file_to_dict\u001b[0;34m(fpath)\u001b[0m\n\u001b[1;32m     <a href='vscode-notebook-cell:/Users/rcap/Projects/notebook-collection/CE-ammo-stats.ipynb#X64sZmlsZQ%3D%3D?line=11'>12</a>\u001b[0m     \u001b[39mfor\u001b[39;00m child \u001b[39min\u001b[39;00m item_children:\n\u001b[1;32m     <a href='vscode-notebook-cell:/Users/rcap/Projects/notebook-collection/CE-ammo-stats.ipynb#X64sZmlsZQ%3D%3D?line=12'>13</a>\u001b[0m         this_obj_values[child\u001b[39m.\u001b[39mtag] \u001b[39m=\u001b[39m child\u001b[39m.\u001b[39mtext\n\u001b[0;32m---> <a href='vscode-notebook-cell:/Users/rcap/Projects/notebook-collection/CE-ammo-stats.ipynb#X64sZmlsZQ%3D%3D?line=13'>14</a>\u001b[0m info_dict[this_obj] \u001b[39m=\u001b[39m this_obj_values\n",
      "\u001b[0;31mUnboundLocalError\u001b[0m: local variable 'this_obj_values' referenced before assignment"
     ]
    }
   ],
   "source": [
    "data_dir = osp.join(\"data/CE-ammo-stats/Ammo/\")\n",
    "for ff in os.listdir(osp.join(data_dir, tgt_dir)):\n",
    "    f_path = osp.join(data_dir, tgt_dir, ff)\n",
    "    print(ff)\n",
    "    info_dict = read_file_to_dict(fpath)\n",
    "    pd.DataFrame().from_dict(info_dict, orient='index')"
   ]
  },
  {
   "cell_type": "code",
   "execution_count": null,
   "metadata": {},
   "outputs": [],
   "source": []
  }
 ],
 "metadata": {
  "kernelspec": {
   "display_name": "Python 3.9.12 ('base')",
   "language": "python",
   "name": "python3"
  },
  "language_info": {
   "codemirror_mode": {
    "name": "ipython",
    "version": 3
   },
   "file_extension": ".py",
   "mimetype": "text/x-python",
   "name": "python",
   "nbconvert_exporter": "python",
   "pygments_lexer": "ipython3",
   "version": "3.9.12"
  },
  "orig_nbformat": 4,
  "vscode": {
   "interpreter": {
    "hash": "a52ef4cfbfd8a49c777add06af4fd65e7ed1d7e9699ed30e2f5899af5cc811db"
   }
  }
 },
 "nbformat": 4,
 "nbformat_minor": 2
}
